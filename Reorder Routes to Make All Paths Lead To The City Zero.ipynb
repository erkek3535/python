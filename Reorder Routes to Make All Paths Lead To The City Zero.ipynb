{
 "cells": [
  {
   "cell_type": "code",
   "execution_count": 11,
   "id": "c67b1c87",
   "metadata": {},
   "outputs": [],
   "source": [
    "class Solution:\n",
    "    def minReorder(self, n, connections)-> int:\n",
    "        edges = set() #edge diye bir set oluşturdum.\n",
    "        \n",
    "        for a,b n connections:\n",
    "           .\n",
    "            edges.add((a,b))\n",
    "            \n",
    "            \n",
    "        neighbours = {} \n",
    "        \n",
    "        for city in range(n):\n",
    "            \n",
    "            neighbours[city] = [] \n",
    "            \n",
    "        for a,b in connections:\n",
    "            neighbours[a].append(b)\n",
    "            neighbours[b].append(a)\n",
    "            \n",
    "            \n",
    "        visited = set() \n",
    "        \n",
    "        \n",
    "        counter = 0\n",
    "        \n",
    "        def dfs(city):\n",
    "            nonlocal edges, neighbours, visited, counter\n",
    "            for neighbour in neighbours[city]:\n",
    "                if neighbour in visited:\n",
    "                    continue\n",
    "                    \n",
    "                if (neighbour,city) not in edges:\n",
    "                    \n",
    "                    counter+=1\n",
    "                visited.add(neighbour) \n",
    "                dfs(neighbour) \n",
    "                \n",
    "        visited.add(0)\n",
    "        dfs(0) \n",
    "        return counter "
   ]
  },
  {
   "cell_type": "code",
   "execution_count": 12,
   "id": "dbce64c1",
   "metadata": {},
   "outputs": [],
   "source": [
    "#n=6 c= [[0,1], [1,3], [2,3],[4,0],[4,5]]"
   ]
  },
  {
   "cell_type": "code",
   "execution_count": 13,
   "id": "e018f369",
   "metadata": {},
   "outputs": [],
   "source": [
    "#n=5 c= [[1,0], [1,2],[3,2],[3,4]]"
   ]
  },
  {
   "cell_type": "code",
   "execution_count": 14,
   "id": "1fe41fcd",
   "metadata": {},
   "outputs": [],
   "source": [
    "#[0,1] in [[0,1], [1,3], [2,3],[4,0],[4,5]] #0 ve 1 bunlara bağlı mı?"
   ]
  },
  {
   "cell_type": "code",
   "execution_count": 15,
   "id": "00667ff6",
   "metadata": {},
   "outputs": [],
   "source": [
    "#O(N)"
   ]
  },
  {
   "cell_type": "code",
   "execution_count": 16,
   "id": "d1614e9b",
   "metadata": {},
   "outputs": [],
   "source": [
    "#(0,1) in {(0,1),(1,3),(2,3),(4,0),(4,5)}"
   ]
  },
  {
   "cell_type": "code",
   "execution_count": 17,
   "id": "148260e8",
   "metadata": {},
   "outputs": [],
   "source": [
    "#O(1)"
   ]
  },
  {
   "cell_type": "code",
   "execution_count": 18,
   "id": "9a1f9467",
   "metadata": {},
   "outputs": [],
   "source": [
    "sol = Solution() "
   ]
  },
  {
   "cell_type": "code",
   "execution_count": 19,
   "id": "96333f5c",
   "metadata": {},
   "outputs": [
    {
     "data": {
      "text/plain": [
       "3"
      ]
     },
     "execution_count": 19,
     "metadata": {},
     "output_type": "execute_result"
    }
   ],
   "source": [
    "sol.minReorder(6,[[0,1], [1,3], [2,3],[4,0],[4,5]])\n"
   ]
  },
  {
   "cell_type": "code",
   "execution_count": 20,
   "id": "9ebecfbf",
   "metadata": {},
   "outputs": [
    {
     "data": {
      "text/plain": [
       "2"
      ]
     },
     "execution_count": 20,
     "metadata": {},
     "output_type": "execute_result"
    }
   ],
   "source": [
    "sol.minReorder(5,[[1,0], [1,2],[3,2],[3,4]])"
   ]
  },
  {
   "cell_type": "code",
   "execution_count": null,
   "id": "0ada23bd",
   "metadata": {},
   "outputs": [],
   "source": []
  }
 ],
 "metadata": {
  "kernelspec": {
   "display_name": "Python 3 (ipykernel)",
   "language": "python",
   "name": "python3"
  },
  "language_info": {
   "codemirror_mode": {
    "name": "ipython",
    "version": 3
   },
   "file_extension": ".py",
   "mimetype": "text/x-python",
   "name": "python",
   "nbconvert_exporter": "python",
   "pygments_lexer": "ipython3",
   "version": "3.9.13"
  }
 },
 "nbformat": 4,
 "nbformat_minor": 5
}
